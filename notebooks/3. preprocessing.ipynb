{
 "cells": [
  {
   "cell_type": "markdown",
   "metadata": {},
   "source": [
    "# Preprocessing"
   ]
  },
  {
   "cell_type": "code",
   "execution_count": 1,
   "metadata": {},
   "outputs": [],
   "source": [
    "import os\n",
    "import yaml\n",
    "import joblib\n",
    "import pandas as pd\n",
    "import numpy as np\n",
    "import seaborn as sns\n",
    "import matplotlib.pyplot as plt\n",
    "\n",
    "from sklearn.preprocessing import LabelEncoder\n",
    "from sklearn.preprocessing import OneHotEncoder\n",
    "\n",
    "from sklearn.preprocessing import StandardScaler\n",
    "from sklearn.linear_model import Lasso\n",
    "from sklearn.metrics import mean_squared_error\n",
    "from sklearn.model_selection import cross_val_score\n",
    "\n",
    "from imblearn.under_sampling import RandomUnderSampler\n",
    "from imblearn.over_sampling import RandomOverSampler, SMOTE"
   ]
  },
  {
   "cell_type": "markdown",
   "metadata": {},
   "source": [
    "## Load Configuration File"
   ]
  },
  {
   "cell_type": "code",
   "execution_count": 2,
   "metadata": {},
   "outputs": [
    {
     "data": {
      "text/plain": [
       "'/home/febbyngrni/telco_churn'"
      ]
     },
     "execution_count": 2,
     "metadata": {},
     "output_type": "execute_result"
    }
   ],
   "source": [
    "os.chdir('/home/febbyngrni/telco_churn')\n",
    "os.getcwd()"
   ]
  },
  {
   "cell_type": "code",
   "execution_count": 3,
   "metadata": {},
   "outputs": [],
   "source": [
    "params_dir = 'config/config.yaml'"
   ]
  },
  {
   "cell_type": "code",
   "execution_count": 4,
   "metadata": {},
   "outputs": [],
   "source": [
    "def load_params(params_dir):\n",
    "    with open(params_dir, 'r') as file:\n",
    "        params = yaml.safe_load(file)\n",
    "\n",
    "    return params"
   ]
  },
  {
   "cell_type": "code",
   "execution_count": 5,
   "metadata": {},
   "outputs": [],
   "source": [
    "params = load_params(params_dir)"
   ]
  },
  {
   "cell_type": "markdown",
   "metadata": {},
   "source": [
    "## Load Dataset"
   ]
  },
  {
   "cell_type": "code",
   "execution_count": 119,
   "metadata": {},
   "outputs": [],
   "source": [
    "def load_dataset(config_data: dict):\n",
    "    X_train = joblib.load(config_data['train_set_path'][0])\n",
    "    y_train = joblib.load(config_data['train_set_path'][1])\n",
    "\n",
    "    X_valid = joblib.load(config_data['valid_set_path'][0])\n",
    "    y_valid = joblib.load(config_data['valid_set_path'][1])\n",
    "\n",
    "    X_test = joblib.load(config_data['test_set_path'][0])\n",
    "    y_test = joblib.load(config_data['test_set_path'][1])\n",
    "\n",
    "    train_set = pd.concat([X_train, y_train], axis=1)\n",
    "    valid_set = pd.concat([X_valid, y_valid], axis=1)\n",
    "    test_set = pd.concat([X_test, y_test], axis=1)\n",
    "\n",
    "    return train_set, valid_set, test_set"
   ]
  },
  {
   "cell_type": "code",
   "execution_count": 120,
   "metadata": {},
   "outputs": [],
   "source": [
    "train_set, valid_set, test_set = load_dataset(config_data=params)"
   ]
  },
  {
   "cell_type": "code",
   "execution_count": 121,
   "metadata": {},
   "outputs": [
    {
     "data": {
      "text/html": [
       "<div>\n",
       "<style scoped>\n",
       "    .dataframe tbody tr th:only-of-type {\n",
       "        vertical-align: middle;\n",
       "    }\n",
       "\n",
       "    .dataframe tbody tr th {\n",
       "        vertical-align: top;\n",
       "    }\n",
       "\n",
       "    .dataframe thead th {\n",
       "        text-align: right;\n",
       "    }\n",
       "</style>\n",
       "<table border=\"1\" class=\"dataframe\">\n",
       "  <thead>\n",
       "    <tr style=\"text-align: right;\">\n",
       "      <th></th>\n",
       "      <th>gender</th>\n",
       "      <th>senior_citizen</th>\n",
       "      <th>partner</th>\n",
       "      <th>dependents</th>\n",
       "      <th>tenure_months</th>\n",
       "      <th>phone_service</th>\n",
       "      <th>multiple_lines</th>\n",
       "      <th>internet_service</th>\n",
       "      <th>online_security</th>\n",
       "      <th>online_backup</th>\n",
       "      <th>device_protection</th>\n",
       "      <th>tech_support</th>\n",
       "      <th>streaming_tv</th>\n",
       "      <th>streaming_movies</th>\n",
       "      <th>contract</th>\n",
       "      <th>paperless_billing</th>\n",
       "      <th>payment_method</th>\n",
       "      <th>monthly_charges</th>\n",
       "      <th>total_charges</th>\n",
       "      <th>churn</th>\n",
       "    </tr>\n",
       "  </thead>\n",
       "  <tbody>\n",
       "    <tr>\n",
       "      <th>5557</th>\n",
       "      <td>Female</td>\n",
       "      <td>No</td>\n",
       "      <td>No</td>\n",
       "      <td>No</td>\n",
       "      <td>5</td>\n",
       "      <td>Yes</td>\n",
       "      <td>No</td>\n",
       "      <td>Fiber optic</td>\n",
       "      <td>No</td>\n",
       "      <td>No</td>\n",
       "      <td>No</td>\n",
       "      <td>No</td>\n",
       "      <td>Yes</td>\n",
       "      <td>No</td>\n",
       "      <td>Month-to-month</td>\n",
       "      <td>No</td>\n",
       "      <td>Electronic check</td>\n",
       "      <td>80.20</td>\n",
       "      <td>384.25</td>\n",
       "      <td>No</td>\n",
       "    </tr>\n",
       "    <tr>\n",
       "      <th>2270</th>\n",
       "      <td>Female</td>\n",
       "      <td>Yes</td>\n",
       "      <td>No</td>\n",
       "      <td>No</td>\n",
       "      <td>3</td>\n",
       "      <td>Yes</td>\n",
       "      <td>No</td>\n",
       "      <td>Fiber optic</td>\n",
       "      <td>No</td>\n",
       "      <td>No</td>\n",
       "      <td>Yes</td>\n",
       "      <td>No</td>\n",
       "      <td>Yes</td>\n",
       "      <td>No</td>\n",
       "      <td>Month-to-month</td>\n",
       "      <td>Yes</td>\n",
       "      <td>Electronic check</td>\n",
       "      <td>86.85</td>\n",
       "      <td>220.95</td>\n",
       "      <td>Yes</td>\n",
       "    </tr>\n",
       "    <tr>\n",
       "      <th>6930</th>\n",
       "      <td>Female</td>\n",
       "      <td>No</td>\n",
       "      <td>Yes</td>\n",
       "      <td>No</td>\n",
       "      <td>3</td>\n",
       "      <td>Yes</td>\n",
       "      <td>Yes</td>\n",
       "      <td>Fiber optic</td>\n",
       "      <td>No</td>\n",
       "      <td>No</td>\n",
       "      <td>No</td>\n",
       "      <td>No</td>\n",
       "      <td>No</td>\n",
       "      <td>No</td>\n",
       "      <td>Month-to-month</td>\n",
       "      <td>Yes</td>\n",
       "      <td>Credit card (automatic)</td>\n",
       "      <td>75.15</td>\n",
       "      <td>216.75</td>\n",
       "      <td>Yes</td>\n",
       "    </tr>\n",
       "    <tr>\n",
       "      <th>2257</th>\n",
       "      <td>Female</td>\n",
       "      <td>No</td>\n",
       "      <td>No</td>\n",
       "      <td>No</td>\n",
       "      <td>60</td>\n",
       "      <td>Yes</td>\n",
       "      <td>Yes</td>\n",
       "      <td>DSL</td>\n",
       "      <td>No</td>\n",
       "      <td>No</td>\n",
       "      <td>Yes</td>\n",
       "      <td>Yes</td>\n",
       "      <td>Yes</td>\n",
       "      <td>Yes</td>\n",
       "      <td>One year</td>\n",
       "      <td>No</td>\n",
       "      <td>Credit card (automatic)</td>\n",
       "      <td>80.55</td>\n",
       "      <td>4847.05</td>\n",
       "      <td>No</td>\n",
       "    </tr>\n",
       "    <tr>\n",
       "      <th>898</th>\n",
       "      <td>Female</td>\n",
       "      <td>No</td>\n",
       "      <td>No</td>\n",
       "      <td>No</td>\n",
       "      <td>12</td>\n",
       "      <td>Yes</td>\n",
       "      <td>No</td>\n",
       "      <td>Fiber optic</td>\n",
       "      <td>Yes</td>\n",
       "      <td>No</td>\n",
       "      <td>No</td>\n",
       "      <td>Yes</td>\n",
       "      <td>Yes</td>\n",
       "      <td>Yes</td>\n",
       "      <td>Month-to-month</td>\n",
       "      <td>Yes</td>\n",
       "      <td>Bank transfer (automatic)</td>\n",
       "      <td>98.90</td>\n",
       "      <td>1120.95</td>\n",
       "      <td>Yes</td>\n",
       "    </tr>\n",
       "  </tbody>\n",
       "</table>\n",
       "</div>"
      ],
      "text/plain": [
       "      gender senior_citizen partner dependents  tenure_months phone_service  \\\n",
       "5557  Female             No      No         No              5           Yes   \n",
       "2270  Female            Yes      No         No              3           Yes   \n",
       "6930  Female             No     Yes         No              3           Yes   \n",
       "2257  Female             No      No         No             60           Yes   \n",
       "898   Female             No      No         No             12           Yes   \n",
       "\n",
       "     multiple_lines internet_service online_security online_backup  \\\n",
       "5557             No      Fiber optic              No            No   \n",
       "2270             No      Fiber optic              No            No   \n",
       "6930            Yes      Fiber optic              No            No   \n",
       "2257            Yes              DSL              No            No   \n",
       "898              No      Fiber optic             Yes            No   \n",
       "\n",
       "     device_protection tech_support streaming_tv streaming_movies  \\\n",
       "5557                No           No          Yes               No   \n",
       "2270               Yes           No          Yes               No   \n",
       "6930                No           No           No               No   \n",
       "2257               Yes          Yes          Yes              Yes   \n",
       "898                 No          Yes          Yes              Yes   \n",
       "\n",
       "            contract paperless_billing             payment_method  \\\n",
       "5557  Month-to-month                No           Electronic check   \n",
       "2270  Month-to-month               Yes           Electronic check   \n",
       "6930  Month-to-month               Yes    Credit card (automatic)   \n",
       "2257        One year                No    Credit card (automatic)   \n",
       "898   Month-to-month               Yes  Bank transfer (automatic)   \n",
       "\n",
       "      monthly_charges  total_charges churn  \n",
       "5557            80.20         384.25    No  \n",
       "2270            86.85         220.95   Yes  \n",
       "6930            75.15         216.75   Yes  \n",
       "2257            80.55        4847.05    No  \n",
       "898             98.90        1120.95   Yes  "
      ]
     },
     "execution_count": 121,
     "metadata": {},
     "output_type": "execute_result"
    }
   ],
   "source": [
    "train_set.head()"
   ]
  },
  {
   "cell_type": "markdown",
   "metadata": {},
   "source": [
    "## One Hot Encoding"
   ]
  },
  {
   "cell_type": "code",
   "execution_count": 122,
   "metadata": {},
   "outputs": [],
   "source": [
    "def ohe_fit(config_file):\n",
    "    for col in config_file['predictors_categorical']:\n",
    "        ohe = OneHotEncoder(drop='first', handle_unknown='ignore', sparse_output=False)\n",
    "        ohe.fit(np.array(config_file['range_' + col]).reshape(-1,1))\n",
    "        joblib.dump(ohe, config_file['ohe_' + col + '_path'])"
   ]
  },
  {
   "cell_type": "code",
   "execution_count": 123,
   "metadata": {},
   "outputs": [],
   "source": [
    "ohe_fit(config_file=params)"
   ]
  },
  {
   "cell_type": "code",
   "execution_count": 124,
   "metadata": {},
   "outputs": [],
   "source": [
    "def ohe_transform(data, config_file):\n",
    "    data_copy = data.copy()\n",
    "\n",
    "    for col in config_file['predictors_categorical']:\n",
    "        ohe = joblib.load(config_file['ohe_' + col + '_path'])\n",
    "        ohe_features = ohe.transform(np.array(data_copy[col].to_list()).reshape(-1,1))\n",
    "\n",
    "        column_name = ohe.get_feature_names_out([col])\n",
    "        ohe_features = pd.DataFrame(ohe_features, columns=column_name)\n",
    "\n",
    "        ohe_features.set_index(data_copy.index, inplace = True)\n",
    "        data_copy = pd.concat([ohe_features, data_copy], axis=1)\n",
    "        data_copy.drop(columns=col, inplace=True)\n",
    "\n",
    "    return data_copy"
   ]
  },
  {
   "cell_type": "code",
   "execution_count": 125,
   "metadata": {},
   "outputs": [
    {
     "data": {
      "text/html": [
       "<div>\n",
       "<style scoped>\n",
       "    .dataframe tbody tr th:only-of-type {\n",
       "        vertical-align: middle;\n",
       "    }\n",
       "\n",
       "    .dataframe tbody tr th {\n",
       "        vertical-align: top;\n",
       "    }\n",
       "\n",
       "    .dataframe thead th {\n",
       "        text-align: right;\n",
       "    }\n",
       "</style>\n",
       "<table border=\"1\" class=\"dataframe\">\n",
       "  <thead>\n",
       "    <tr style=\"text-align: right;\">\n",
       "      <th></th>\n",
       "      <th>payment_method_Credit card (automatic)</th>\n",
       "      <th>payment_method_Electronic check</th>\n",
       "      <th>payment_method_Mailed check</th>\n",
       "      <th>paperless_billing_Yes</th>\n",
       "      <th>contract_One year</th>\n",
       "      <th>contract_Two year</th>\n",
       "      <th>streaming_movies_No internet service</th>\n",
       "      <th>streaming_movies_Yes</th>\n",
       "      <th>streaming_tv_No internet service</th>\n",
       "      <th>streaming_tv_Yes</th>\n",
       "      <th>...</th>\n",
       "      <th>multiple_lines_Yes</th>\n",
       "      <th>phone_service_Yes</th>\n",
       "      <th>dependents_Yes</th>\n",
       "      <th>partner_Yes</th>\n",
       "      <th>senior_citizen_Yes</th>\n",
       "      <th>gender_Male</th>\n",
       "      <th>tenure_months</th>\n",
       "      <th>monthly_charges</th>\n",
       "      <th>total_charges</th>\n",
       "      <th>churn</th>\n",
       "    </tr>\n",
       "  </thead>\n",
       "  <tbody>\n",
       "    <tr>\n",
       "      <th>5557</th>\n",
       "      <td>0.0</td>\n",
       "      <td>1.0</td>\n",
       "      <td>0.0</td>\n",
       "      <td>0.0</td>\n",
       "      <td>0.0</td>\n",
       "      <td>0.0</td>\n",
       "      <td>0.0</td>\n",
       "      <td>0.0</td>\n",
       "      <td>0.0</td>\n",
       "      <td>1.0</td>\n",
       "      <td>...</td>\n",
       "      <td>0.0</td>\n",
       "      <td>1.0</td>\n",
       "      <td>0.0</td>\n",
       "      <td>0.0</td>\n",
       "      <td>0.0</td>\n",
       "      <td>0.0</td>\n",
       "      <td>5</td>\n",
       "      <td>80.20</td>\n",
       "      <td>384.25</td>\n",
       "      <td>No</td>\n",
       "    </tr>\n",
       "    <tr>\n",
       "      <th>2270</th>\n",
       "      <td>0.0</td>\n",
       "      <td>1.0</td>\n",
       "      <td>0.0</td>\n",
       "      <td>1.0</td>\n",
       "      <td>0.0</td>\n",
       "      <td>0.0</td>\n",
       "      <td>0.0</td>\n",
       "      <td>0.0</td>\n",
       "      <td>0.0</td>\n",
       "      <td>1.0</td>\n",
       "      <td>...</td>\n",
       "      <td>0.0</td>\n",
       "      <td>1.0</td>\n",
       "      <td>0.0</td>\n",
       "      <td>0.0</td>\n",
       "      <td>1.0</td>\n",
       "      <td>0.0</td>\n",
       "      <td>3</td>\n",
       "      <td>86.85</td>\n",
       "      <td>220.95</td>\n",
       "      <td>Yes</td>\n",
       "    </tr>\n",
       "    <tr>\n",
       "      <th>6930</th>\n",
       "      <td>1.0</td>\n",
       "      <td>0.0</td>\n",
       "      <td>0.0</td>\n",
       "      <td>1.0</td>\n",
       "      <td>0.0</td>\n",
       "      <td>0.0</td>\n",
       "      <td>0.0</td>\n",
       "      <td>0.0</td>\n",
       "      <td>0.0</td>\n",
       "      <td>0.0</td>\n",
       "      <td>...</td>\n",
       "      <td>1.0</td>\n",
       "      <td>1.0</td>\n",
       "      <td>0.0</td>\n",
       "      <td>1.0</td>\n",
       "      <td>0.0</td>\n",
       "      <td>0.0</td>\n",
       "      <td>3</td>\n",
       "      <td>75.15</td>\n",
       "      <td>216.75</td>\n",
       "      <td>Yes</td>\n",
       "    </tr>\n",
       "    <tr>\n",
       "      <th>2257</th>\n",
       "      <td>1.0</td>\n",
       "      <td>0.0</td>\n",
       "      <td>0.0</td>\n",
       "      <td>0.0</td>\n",
       "      <td>1.0</td>\n",
       "      <td>0.0</td>\n",
       "      <td>0.0</td>\n",
       "      <td>1.0</td>\n",
       "      <td>0.0</td>\n",
       "      <td>1.0</td>\n",
       "      <td>...</td>\n",
       "      <td>1.0</td>\n",
       "      <td>1.0</td>\n",
       "      <td>0.0</td>\n",
       "      <td>0.0</td>\n",
       "      <td>0.0</td>\n",
       "      <td>0.0</td>\n",
       "      <td>60</td>\n",
       "      <td>80.55</td>\n",
       "      <td>4847.05</td>\n",
       "      <td>No</td>\n",
       "    </tr>\n",
       "    <tr>\n",
       "      <th>898</th>\n",
       "      <td>0.0</td>\n",
       "      <td>0.0</td>\n",
       "      <td>0.0</td>\n",
       "      <td>1.0</td>\n",
       "      <td>0.0</td>\n",
       "      <td>0.0</td>\n",
       "      <td>0.0</td>\n",
       "      <td>1.0</td>\n",
       "      <td>0.0</td>\n",
       "      <td>1.0</td>\n",
       "      <td>...</td>\n",
       "      <td>0.0</td>\n",
       "      <td>1.0</td>\n",
       "      <td>0.0</td>\n",
       "      <td>0.0</td>\n",
       "      <td>0.0</td>\n",
       "      <td>0.0</td>\n",
       "      <td>12</td>\n",
       "      <td>98.90</td>\n",
       "      <td>1120.95</td>\n",
       "      <td>Yes</td>\n",
       "    </tr>\n",
       "  </tbody>\n",
       "</table>\n",
       "<p>5 rows × 31 columns</p>\n",
       "</div>"
      ],
      "text/plain": [
       "      payment_method_Credit card (automatic)  payment_method_Electronic check  \\\n",
       "5557                                     0.0                              1.0   \n",
       "2270                                     0.0                              1.0   \n",
       "6930                                     1.0                              0.0   \n",
       "2257                                     1.0                              0.0   \n",
       "898                                      0.0                              0.0   \n",
       "\n",
       "      payment_method_Mailed check  paperless_billing_Yes  contract_One year  \\\n",
       "5557                          0.0                    0.0                0.0   \n",
       "2270                          0.0                    1.0                0.0   \n",
       "6930                          0.0                    1.0                0.0   \n",
       "2257                          0.0                    0.0                1.0   \n",
       "898                           0.0                    1.0                0.0   \n",
       "\n",
       "      contract_Two year  streaming_movies_No internet service  \\\n",
       "5557                0.0                                   0.0   \n",
       "2270                0.0                                   0.0   \n",
       "6930                0.0                                   0.0   \n",
       "2257                0.0                                   0.0   \n",
       "898                 0.0                                   0.0   \n",
       "\n",
       "      streaming_movies_Yes  streaming_tv_No internet service  \\\n",
       "5557                   0.0                               0.0   \n",
       "2270                   0.0                               0.0   \n",
       "6930                   0.0                               0.0   \n",
       "2257                   1.0                               0.0   \n",
       "898                    1.0                               0.0   \n",
       "\n",
       "      streaming_tv_Yes  ...  multiple_lines_Yes  phone_service_Yes  \\\n",
       "5557               1.0  ...                 0.0                1.0   \n",
       "2270               1.0  ...                 0.0                1.0   \n",
       "6930               0.0  ...                 1.0                1.0   \n",
       "2257               1.0  ...                 1.0                1.0   \n",
       "898                1.0  ...                 0.0                1.0   \n",
       "\n",
       "      dependents_Yes  partner_Yes  senior_citizen_Yes  gender_Male  \\\n",
       "5557             0.0          0.0                 0.0          0.0   \n",
       "2270             0.0          0.0                 1.0          0.0   \n",
       "6930             0.0          1.0                 0.0          0.0   \n",
       "2257             0.0          0.0                 0.0          0.0   \n",
       "898              0.0          0.0                 0.0          0.0   \n",
       "\n",
       "      tenure_months  monthly_charges  total_charges  churn  \n",
       "5557              5            80.20         384.25     No  \n",
       "2270              3            86.85         220.95    Yes  \n",
       "6930              3            75.15         216.75    Yes  \n",
       "2257             60            80.55        4847.05     No  \n",
       "898              12            98.90        1120.95    Yes  \n",
       "\n",
       "[5 rows x 31 columns]"
      ]
     },
     "execution_count": 125,
     "metadata": {},
     "output_type": "execute_result"
    }
   ],
   "source": [
    "train_set = ohe_transform(data=train_set, config_file=params)\n",
    "train_set.head()"
   ]
  },
  {
   "cell_type": "code",
   "execution_count": 126,
   "metadata": {},
   "outputs": [],
   "source": [
    "valid_set = ohe_transform(data=valid_set, config_file=params)"
   ]
  },
  {
   "cell_type": "code",
   "execution_count": 127,
   "metadata": {},
   "outputs": [],
   "source": [
    "test_set = ohe_transform(data=test_set, config_file=params)"
   ]
  },
  {
   "cell_type": "markdown",
   "metadata": {},
   "source": [
    "## Label Balancing"
   ]
  },
  {
   "cell_type": "code",
   "execution_count": 128,
   "metadata": {},
   "outputs": [
    {
     "data": {
      "text/plain": [
       "<Axes: xlabel='churn', ylabel='Count'>"
      ]
     },
     "execution_count": 128,
     "metadata": {},
     "output_type": "execute_result"
    },
    {
     "data": {
      "image/png": "[encoded data removed]",
      "text/plain": [
       "<Figure size 640x480 with 1 Axes>"
      ]
     },
     "metadata": {},
     "output_type": "display_data"
    }
   ],
   "source": [
    "sns.histplot(data=train_set, x='churn', hue='churn')"
   ]
  },
  {
   "cell_type": "markdown",
   "metadata": {},
   "source": [
    "### Undersampling"
   ]
  },
  {
   "cell_type": "code",
   "execution_count": 129,
   "metadata": {},
   "outputs": [],
   "source": [
    "def rus_resample(data, col_to_drop):\n",
    "    data_copy = data.copy()\n",
    "\n",
    "    rus = RandomUnderSampler(random_state=42)\n",
    "    X_rus, y_rus = rus.fit_resample(data_copy.drop(col_to_drop, axis=1), data_copy[col_to_drop])\n",
    "    data_rus = pd.concat([X_rus, y_rus], axis=1)\n",
    "\n",
    "    return data_rus"
   ]
  },
  {
   "cell_type": "code",
   "execution_count": 130,
   "metadata": {},
   "outputs": [],
   "source": [
    "data_rus = rus_resample(data=train_set, col_to_drop='churn')"
   ]
  },
  {
   "cell_type": "code",
   "execution_count": 131,
   "metadata": {},
   "outputs": [
    {
     "data": {
      "text/plain": [
       "<Axes: xlabel='churn', ylabel='Count'>"
      ]
     },
     "execution_count": 131,
     "metadata": {},
     "output_type": "execute_result"
    },
    {
     "data": {
      "image/png": "[encoded data removed]",
      "text/plain": [
       "<Figure size 640x480 with 1 Axes>"
      ]
     },
     "metadata": {},
     "output_type": "display_data"
    }
   ],
   "source": [
    "sns.histplot(data=data_rus, x='churn', hue='churn')"
   ]
  },
  {
   "cell_type": "code",
   "execution_count": 132,
   "metadata": {},
   "outputs": [
    {
     "data": {
      "text/plain": [
       "churn\n",
       "No     3622\n",
       "Yes    1308\n",
       "Name: count, dtype: int64"
      ]
     },
     "execution_count": 132,
     "metadata": {},
     "output_type": "execute_result"
    }
   ],
   "source": [
    "train_set['churn'].value_counts()"
   ]
  },
  {
   "cell_type": "markdown",
   "metadata": {},
   "source": [
    "### Oversampling"
   ]
  },
  {
   "cell_type": "code",
   "execution_count": 133,
   "metadata": {},
   "outputs": [],
   "source": [
    "def ros_resample(data, col_to_drop):\n",
    "    data_copy = data.copy()\n",
    "\n",
    "    ros = RandomOverSampler(random_state=11)\n",
    "    X_ros, y_ros = ros.fit_resample(data_copy.drop(col_to_drop, axis=1), data_copy[col_to_drop])\n",
    "    data_ros = pd.concat([X_ros, y_ros], axis=1)\n",
    "\n",
    "    return data_ros"
   ]
  },
  {
   "cell_type": "code",
   "execution_count": 134,
   "metadata": {},
   "outputs": [],
   "source": [
    "data_ros = ros_resample(data=train_set, col_to_drop='churn')"
   ]
  },
  {
   "cell_type": "code",
   "execution_count": 135,
   "metadata": {},
   "outputs": [
    {
     "data": {
      "text/plain": [
       "<Axes: xlabel='churn', ylabel='Count'>"
      ]
     },
     "execution_count": 135,
     "metadata": {},
     "output_type": "execute_result"
    },
    {
     "data": {
      "image/png": "[encoded data removed]",
      "text/plain": [
       "<Figure size 640x480 with 1 Axes>"
      ]
     },
     "metadata": {},
     "output_type": "display_data"
    }
   ],
   "source": [
    "sns.histplot(data=data_ros, x='churn', hue='churn')"
   ]
  },
  {
   "cell_type": "markdown",
   "metadata": {},
   "source": [
    "### SMOTE"
   ]
  },
  {
   "cell_type": "code",
   "execution_count": 136,
   "metadata": {},
   "outputs": [],
   "source": [
    "def sm_resample(data, col_to_drop):\n",
    "    data_copy = data.copy()\n",
    "\n",
    "    sm = SMOTE(random_state=42)\n",
    "    X_sm, y_sm = sm.fit_resample(data_copy.drop(col_to_drop, axis=1), data_copy[col_to_drop])\n",
    "    data_sm = pd.concat([X_sm, y_sm], axis=1)\n",
    "\n",
    "    return data_sm"
   ]
  },
  {
   "cell_type": "code",
   "execution_count": 137,
   "metadata": {},
   "outputs": [],
   "source": [
    "data_sm = sm_resample(data=train_set, col_to_drop='churn')"
   ]
  },
  {
   "cell_type": "code",
   "execution_count": 138,
   "metadata": {},
   "outputs": [
    {
     "data": {
      "text/plain": [
       "<Axes: xlabel='churn', ylabel='Count'>"
      ]
     },
     "execution_count": 138,
     "metadata": {},
     "output_type": "execute_result"
    },
    {
     "data": {
      "image/png": "[encoded data removed]",
      "text/plain": [
       "<Figure size 640x480 with 1 Axes>"
      ]
     },
     "metadata": {},
     "output_type": "display_data"
    }
   ],
   "source": [
    "sns.histplot(data=data_sm, x='churn', hue='churn')"
   ]
  },
  {
   "cell_type": "markdown",
   "metadata": {},
   "source": [
    "## Label Encoding"
   ]
  },
  {
   "cell_type": "code",
   "execution_count": 139,
   "metadata": {},
   "outputs": [],
   "source": [
    "def le_fit(data, le_path):\n",
    "    le_encoder = LabelEncoder()\n",
    "    le_encoder.fit(data)\n",
    "    joblib.dump(le_encoder, le_path)\n",
    "\n",
    "    return le_encoder"
   ]
  },
  {
   "cell_type": "code",
   "execution_count": 140,
   "metadata": {},
   "outputs": [],
   "source": [
    "le_encoder = le_fit(data=params['range_churn'], le_path=params['le_path'])"
   ]
  },
  {
   "cell_type": "code",
   "execution_count": 141,
   "metadata": {},
   "outputs": [],
   "source": [
    "def le_transform(data, config_file):\n",
    "    data_copy = data.copy()\n",
    "    le_encoder = joblib.load(config_file['le_path'])\n",
    "    \n",
    "    if len(set(data_copy.unique()) - set(le_encoder.classes_) | set(le_encoder.classes_) - set(data_copy.unique())) == 0:\n",
    "        data_copy = le_encoder.transform(data_copy)\n",
    "    else:\n",
    "        raise RuntimeError('Check category in label data and label encoder')\n",
    "\n",
    "    return data_copy"
   ]
  },
  {
   "cell_type": "code",
   "execution_count": 142,
   "metadata": {},
   "outputs": [],
   "source": [
    "train_set['churn'] = le_transform(data=train_set['churn'], config_file=params)"
   ]
  },
  {
   "cell_type": "code",
   "execution_count": 143,
   "metadata": {},
   "outputs": [
    {
     "data": {
      "text/plain": [
       "5557    0\n",
       "2270    1\n",
       "6930    1\n",
       "2257    0\n",
       "898     1\n",
       "       ..\n",
       "4250    0\n",
       "1488    0\n",
       "6303    0\n",
       "2710    0\n",
       "5639    0\n",
       "Name: churn, Length: 4930, dtype: int64"
      ]
     },
     "execution_count": 143,
     "metadata": {},
     "output_type": "execute_result"
    }
   ],
   "source": [
    "train_set['churn']"
   ]
  },
  {
   "cell_type": "code",
   "execution_count": 144,
   "metadata": {},
   "outputs": [],
   "source": [
    "data_rus['churn'] = le_transform(data=data_rus['churn'], config_file=params)"
   ]
  },
  {
   "cell_type": "code",
   "execution_count": 145,
   "metadata": {},
   "outputs": [],
   "source": [
    "data_ros['churn'] = le_transform(data=data_ros['churn'], config_file=params)"
   ]
  },
  {
   "cell_type": "code",
   "execution_count": 146,
   "metadata": {},
   "outputs": [],
   "source": [
    "data_sm['churn'] = le_transform(data=data_sm['churn'], config_file=params)"
   ]
  },
  {
   "cell_type": "code",
   "execution_count": 147,
   "metadata": {},
   "outputs": [],
   "source": [
    "valid_set['churn'] = le_transform(data=valid_set['churn'], config_file=params)"
   ]
  },
  {
   "cell_type": "code",
   "execution_count": 148,
   "metadata": {},
   "outputs": [],
   "source": [
    "test_set['churn'] = le_transform(data=test_set['churn'], config_file=params)"
   ]
  },
  {
   "cell_type": "markdown",
   "metadata": {},
   "source": [
    "## Feature Selection"
   ]
  },
  {
   "cell_type": "markdown",
   "metadata": {},
   "source": [
    "### Train Set Standardization"
   ]
  },
  {
   "cell_type": "code",
   "execution_count": 149,
   "metadata": {},
   "outputs": [],
   "source": [
    "def fit_scaler(data):\n",
    "    \"\"\"\n",
    "    Fit the StandardScaler to the data.\n",
    "    Args:\n",
    "        data (pd.DataFrame): The input data to be fitted by the scaler.\n",
    "\n",
    "    Returns:\n",
    "        scaler (StandardScaler): Fitted StandardScaler object.\n",
    "    \"\"\"\n",
    "    # initialize the StandardScaler\n",
    "    scaler = StandardScaler()\n",
    "\n",
    "    # fit the scaler to the data\n",
    "    scaler.fit(data)\n",
    "\n",
    "    return scaler"
   ]
  },
  {
   "cell_type": "code",
   "execution_count": 150,
   "metadata": {},
   "outputs": [],
   "source": [
    "# fit scaler using df_eda data\n",
    "scaler = fit_scaler(data = train_set.drop(columns='churn'))"
   ]
  },
  {
   "cell_type": "code",
   "execution_count": 151,
   "metadata": {},
   "outputs": [],
   "source": [
    "def transform_scaler(data, scaler):\n",
    "    \"\"\"\n",
    "    Transform the data using the fitted StandardScaler.\n",
    "    Args:\n",
    "        data (pd.DataFrame): The data to be transformed.\n",
    "        scaler (StandardScaler): Fitted scaler.\n",
    "\n",
    "    Returns:\n",
    "        df_scaled (pd.DataFrame): Scaled data with the same index and columns.\n",
    "    \"\"\"\n",
    "    # Transform the data using the fitted scaler\n",
    "    df_scaled = pd.DataFrame(scaler.transform(data))\n",
    "\n",
    "    # Set the index and columns of the scaled DataFrame\n",
    "    df_scaled.index = data.index\n",
    "    df_scaled.columns = data.columns\n",
    "\n",
    "    print(f'Data shape: {data.shape}')\n",
    "\n",
    "    return df_scaled"
   ]
  },
  {
   "cell_type": "code",
   "execution_count": 152,
   "metadata": {},
   "outputs": [
    {
     "name": "stdout",
     "output_type": "stream",
     "text": [
      "Data shape: (4930, 30)\n"
     ]
    },
    {
     "data": {
      "text/html": [
       "<div>\n",
       "<style scoped>\n",
       "    .dataframe tbody tr th:only-of-type {\n",
       "        vertical-align: middle;\n",
       "    }\n",
       "\n",
       "    .dataframe tbody tr th {\n",
       "        vertical-align: top;\n",
       "    }\n",
       "\n",
       "    .dataframe thead th {\n",
       "        text-align: right;\n",
       "    }\n",
       "</style>\n",
       "<table border=\"1\" class=\"dataframe\">\n",
       "  <thead>\n",
       "    <tr style=\"text-align: right;\">\n",
       "      <th></th>\n",
       "      <th>payment_method_Credit card (automatic)</th>\n",
       "      <th>payment_method_Electronic check</th>\n",
       "      <th>payment_method_Mailed check</th>\n",
       "      <th>paperless_billing_Yes</th>\n",
       "      <th>contract_One year</th>\n",
       "      <th>contract_Two year</th>\n",
       "      <th>streaming_movies_No internet service</th>\n",
       "      <th>streaming_movies_Yes</th>\n",
       "      <th>streaming_tv_No internet service</th>\n",
       "      <th>streaming_tv_Yes</th>\n",
       "      <th>...</th>\n",
       "      <th>multiple_lines_No phone service</th>\n",
       "      <th>multiple_lines_Yes</th>\n",
       "      <th>phone_service_Yes</th>\n",
       "      <th>dependents_Yes</th>\n",
       "      <th>partner_Yes</th>\n",
       "      <th>senior_citizen_Yes</th>\n",
       "      <th>gender_Male</th>\n",
       "      <th>tenure_months</th>\n",
       "      <th>monthly_charges</th>\n",
       "      <th>total_charges</th>\n",
       "    </tr>\n",
       "  </thead>\n",
       "  <tbody>\n",
       "    <tr>\n",
       "      <th>5557</th>\n",
       "      <td>-0.525557</td>\n",
       "      <td>1.407357</td>\n",
       "      <td>-0.543123</td>\n",
       "      <td>-1.205295</td>\n",
       "      <td>-0.515170</td>\n",
       "      <td>-0.564701</td>\n",
       "      <td>-0.525871</td>\n",
       "      <td>-0.802422</td>\n",
       "      <td>-0.525871</td>\n",
       "      <td>1.240938</td>\n",
       "      <td>...</td>\n",
       "      <td>-0.334459</td>\n",
       "      <td>-0.856787</td>\n",
       "      <td>0.334459</td>\n",
       "      <td>-0.650862</td>\n",
       "      <td>-0.962957</td>\n",
       "      <td>-0.438147</td>\n",
       "      <td>-1.005288</td>\n",
       "      <td>-1.114728</td>\n",
       "      <td>0.504286</td>\n",
       "      <td>-0.836504</td>\n",
       "    </tr>\n",
       "    <tr>\n",
       "      <th>2270</th>\n",
       "      <td>-0.525557</td>\n",
       "      <td>1.407357</td>\n",
       "      <td>-0.543123</td>\n",
       "      <td>0.829672</td>\n",
       "      <td>-0.515170</td>\n",
       "      <td>-0.564701</td>\n",
       "      <td>-0.525871</td>\n",
       "      <td>-0.802422</td>\n",
       "      <td>-0.525871</td>\n",
       "      <td>1.240938</td>\n",
       "      <td>...</td>\n",
       "      <td>-0.334459</td>\n",
       "      <td>-0.856787</td>\n",
       "      <td>0.334459</td>\n",
       "      <td>-0.650862</td>\n",
       "      <td>-0.962957</td>\n",
       "      <td>2.282338</td>\n",
       "      <td>-1.005288</td>\n",
       "      <td>-1.195884</td>\n",
       "      <td>0.724189</td>\n",
       "      <td>-0.907742</td>\n",
       "    </tr>\n",
       "    <tr>\n",
       "      <th>6930</th>\n",
       "      <td>1.902743</td>\n",
       "      <td>-0.710552</td>\n",
       "      <td>-0.543123</td>\n",
       "      <td>0.829672</td>\n",
       "      <td>-0.515170</td>\n",
       "      <td>-0.564701</td>\n",
       "      <td>-0.525871</td>\n",
       "      <td>-0.802422</td>\n",
       "      <td>-0.525871</td>\n",
       "      <td>-0.805842</td>\n",
       "      <td>...</td>\n",
       "      <td>-0.334459</td>\n",
       "      <td>1.167151</td>\n",
       "      <td>0.334459</td>\n",
       "      <td>-0.650862</td>\n",
       "      <td>1.038468</td>\n",
       "      <td>-0.438147</td>\n",
       "      <td>-1.005288</td>\n",
       "      <td>-1.195884</td>\n",
       "      <td>0.337292</td>\n",
       "      <td>-0.909574</td>\n",
       "    </tr>\n",
       "    <tr>\n",
       "      <th>2257</th>\n",
       "      <td>1.902743</td>\n",
       "      <td>-0.710552</td>\n",
       "      <td>-0.543123</td>\n",
       "      <td>-1.205295</td>\n",
       "      <td>1.941106</td>\n",
       "      <td>-0.564701</td>\n",
       "      <td>-0.525871</td>\n",
       "      <td>1.246227</td>\n",
       "      <td>-0.525871</td>\n",
       "      <td>1.240938</td>\n",
       "      <td>...</td>\n",
       "      <td>-0.334459</td>\n",
       "      <td>1.167151</td>\n",
       "      <td>0.334459</td>\n",
       "      <td>-0.650862</td>\n",
       "      <td>-0.962957</td>\n",
       "      <td>-0.438147</td>\n",
       "      <td>-1.005288</td>\n",
       "      <td>1.117066</td>\n",
       "      <td>0.515860</td>\n",
       "      <td>1.110332</td>\n",
       "    </tr>\n",
       "    <tr>\n",
       "      <th>898</th>\n",
       "      <td>-0.525557</td>\n",
       "      <td>-0.710552</td>\n",
       "      <td>-0.543123</td>\n",
       "      <td>0.829672</td>\n",
       "      <td>-0.515170</td>\n",
       "      <td>-0.564701</td>\n",
       "      <td>-0.525871</td>\n",
       "      <td>1.246227</td>\n",
       "      <td>-0.525871</td>\n",
       "      <td>1.240938</td>\n",
       "      <td>...</td>\n",
       "      <td>-0.334459</td>\n",
       "      <td>-0.856787</td>\n",
       "      <td>0.334459</td>\n",
       "      <td>-0.650862</td>\n",
       "      <td>-0.962957</td>\n",
       "      <td>-0.438147</td>\n",
       "      <td>-1.005288</td>\n",
       "      <td>-0.830682</td>\n",
       "      <td>1.122660</td>\n",
       "      <td>-0.515129</td>\n",
       "    </tr>\n",
       "  </tbody>\n",
       "</table>\n",
       "<p>5 rows × 30 columns</p>\n",
       "</div>"
      ],
      "text/plain": [
       "      payment_method_Credit card (automatic)  payment_method_Electronic check  \\\n",
       "5557                               -0.525557                         1.407357   \n",
       "2270                               -0.525557                         1.407357   \n",
       "6930                                1.902743                        -0.710552   \n",
       "2257                                1.902743                        -0.710552   \n",
       "898                                -0.525557                        -0.710552   \n",
       "\n",
       "      payment_method_Mailed check  paperless_billing_Yes  contract_One year  \\\n",
       "5557                    -0.543123              -1.205295          -0.515170   \n",
       "2270                    -0.543123               0.829672          -0.515170   \n",
       "6930                    -0.543123               0.829672          -0.515170   \n",
       "2257                    -0.543123              -1.205295           1.941106   \n",
       "898                     -0.543123               0.829672          -0.515170   \n",
       "\n",
       "      contract_Two year  streaming_movies_No internet service  \\\n",
       "5557          -0.564701                             -0.525871   \n",
       "2270          -0.564701                             -0.525871   \n",
       "6930          -0.564701                             -0.525871   \n",
       "2257          -0.564701                             -0.525871   \n",
       "898           -0.564701                             -0.525871   \n",
       "\n",
       "      streaming_movies_Yes  streaming_tv_No internet service  \\\n",
       "5557             -0.802422                         -0.525871   \n",
       "2270             -0.802422                         -0.525871   \n",
       "6930             -0.802422                         -0.525871   \n",
       "2257              1.246227                         -0.525871   \n",
       "898               1.246227                         -0.525871   \n",
       "\n",
       "      streaming_tv_Yes  ...  multiple_lines_No phone service  \\\n",
       "5557          1.240938  ...                        -0.334459   \n",
       "2270          1.240938  ...                        -0.334459   \n",
       "6930         -0.805842  ...                        -0.334459   \n",
       "2257          1.240938  ...                        -0.334459   \n",
       "898           1.240938  ...                        -0.334459   \n",
       "\n",
       "      multiple_lines_Yes  phone_service_Yes  dependents_Yes  partner_Yes  \\\n",
       "5557           -0.856787           0.334459       -0.650862    -0.962957   \n",
       "2270           -0.856787           0.334459       -0.650862    -0.962957   \n",
       "6930            1.167151           0.334459       -0.650862     1.038468   \n",
       "2257            1.167151           0.334459       -0.650862    -0.962957   \n",
       "898            -0.856787           0.334459       -0.650862    -0.962957   \n",
       "\n",
       "      senior_citizen_Yes  gender_Male  tenure_months  monthly_charges  \\\n",
       "5557           -0.438147    -1.005288      -1.114728         0.504286   \n",
       "2270            2.282338    -1.005288      -1.195884         0.724189   \n",
       "6930           -0.438147    -1.005288      -1.195884         0.337292   \n",
       "2257           -0.438147    -1.005288       1.117066         0.515860   \n",
       "898            -0.438147    -1.005288      -0.830682         1.122660   \n",
       "\n",
       "      total_charges  \n",
       "5557      -0.836504  \n",
       "2270      -0.907742  \n",
       "6930      -0.909574  \n",
       "2257       1.110332  \n",
       "898       -0.515129  \n",
       "\n",
       "[5 rows x 30 columns]"
      ]
     },
     "execution_count": 152,
     "metadata": {},
     "output_type": "execute_result"
    }
   ],
   "source": [
    "# transform scaler using df_rfm_data data\n",
    "X_scaled = transform_scaler(data = train_set.drop(columns='churn'),\n",
    "                            scaler = scaler)\n",
    "\n",
    "X_scaled.head()"
   ]
  },
  {
   "cell_type": "markdown",
   "metadata": {},
   "source": [
    "### Lasso Regression"
   ]
  },
  {
   "cell_type": "code",
   "execution_count": 153,
   "metadata": {},
   "outputs": [],
   "source": [
    "def feature_selection(estimator, X_train, y_train):\n",
    "    \"\"\"\n",
    "    Fits the given estimator to the training data, computes training and cross-validation\n",
    "    scores, and extracts the model coefficients.\n",
    "\n",
    "    Parameters\n",
    "    ----------\n",
    "    estimator : sklearn estimator\n",
    "        The regression model to be fitted (e.g., Lasso).\n",
    "\n",
    "    X_train : pandas DataFrame\n",
    "        The training features used to fit the model.\n",
    "\n",
    "    y_train : pandas Series or numpy array\n",
    "        The target variable corresponding to the training features.\n",
    "\n",
    "    Returns\n",
    "    -------\n",
    "    estimator : sklearn estimator\n",
    "        The fitted estimator with learned parameters.\n",
    "\n",
    "    train_score : float\n",
    "        The mean squared error of the model on the training data.\n",
    "\n",
    "    cv_score : float\n",
    "        The average negative mean squared error obtained from cross-validation.\n",
    "\n",
    "    estimator_params_df : pandas DataFrame\n",
    "        A DataFrame containing the model coefficients and the constant term.\n",
    "    \"\"\"\n",
    "    # fit the model\n",
    "    estimator.fit(X_train, y_train)\n",
    "\n",
    "    # predict\n",
    "    y_pred_train = estimator.predict(X_train)\n",
    "    train_score = mean_squared_error(y_true=y_train, y_pred=y_pred_train)\n",
    "\n",
    "    # cross validation\n",
    "    valid_scores = cross_val_score(estimator=estimator,\n",
    "                                   X=X_train,\n",
    "                                   y=y_train,\n",
    "                                   cv=5,\n",
    "                                   scoring='neg_mean_squared_error')\n",
    "    cv_score = -np.mean(valid_scores)\n",
    "\n",
    "    # extract coefficient\n",
    "    coef_ = estimator.coef_\n",
    "    intercept_ = estimator.intercept_\n",
    "    estimator_params = np.append(coef_, intercept_)\n",
    "\n",
    "    # create DataFrame for coefficients\n",
    "    estimator_params_df = pd.DataFrame(estimator_params,\n",
    "                                       index=list(X_train.columns) + ['constant'],\n",
    "                                       columns=['coefficient'])\n",
    "\n",
    "    return estimator, train_score, cv_score, estimator_params_df"
   ]
  },
  {
   "cell_type": "code",
   "execution_count": 154,
   "metadata": {},
   "outputs": [
    {
     "name": "stderr",
     "output_type": "stream",
     "text": [
      "/home/febbyngrni/telco_churn/.venv_churn/lib/python3.10/site-packages/sklearn/base.py:1473: UserWarning: With alpha=0, this algorithm does not converge well. You are advised to use the LinearRegression estimator\n",
      "  return fit_method(estimator, *args, **kwargs)\n",
      "/home/febbyngrni/telco_churn/.venv_churn/lib/python3.10/site-packages/sklearn/linear_model/_coordinate_descent.py:697: UserWarning: Coordinate descent with no regularization may lead to unexpected results and is discouraged.\n",
      "  model = cd_fast.enet_coordinate_descent(\n",
      "/home/febbyngrni/telco_churn/.venv_churn/lib/python3.10/site-packages/sklearn/linear_model/_coordinate_descent.py:697: ConvergenceWarning: Objective did not converge. You might want to increase the number of iterations, check the scale of the features or consider increasing regularisation. Duality gap: 3.427e+02, tolerance: 9.610e-02 Linear regression models with null weight for the l1 regularization term are more efficiently fitted using one of the solvers implemented in sklearn.linear_model.Ridge/RidgeCV instead.\n",
      "  model = cd_fast.enet_coordinate_descent(\n",
      "/home/febbyngrni/telco_churn/.venv_churn/lib/python3.10/site-packages/sklearn/base.py:1473: UserWarning: With alpha=0, this algorithm does not converge well. You are advised to use the LinearRegression estimator\n",
      "  return fit_method(estimator, *args, **kwargs)\n",
      "/home/febbyngrni/telco_churn/.venv_churn/lib/python3.10/site-packages/sklearn/linear_model/_coordinate_descent.py:697: UserWarning: Coordinate descent with no regularization may lead to unexpected results and is discouraged.\n",
      "  model = cd_fast.enet_coordinate_descent(\n",
      "/home/febbyngrni/telco_churn/.venv_churn/lib/python3.10/site-packages/sklearn/linear_model/_coordinate_descent.py:697: ConvergenceWarning: Objective did not converge. You might want to increase the number of iterations, check the scale of the features or consider increasing regularisation. Duality gap: 2.770e+02, tolerance: 7.719e-02 Linear regression models with null weight for the l1 regularization term are more efficiently fitted using one of the solvers implemented in sklearn.linear_model.Ridge/RidgeCV instead.\n",
      "  model = cd_fast.enet_coordinate_descent(\n",
      "/home/febbyngrni/telco_churn/.venv_churn/lib/python3.10/site-packages/sklearn/base.py:1473: UserWarning: With alpha=0, this algorithm does not converge well. You are advised to use the LinearRegression estimator\n",
      "  return fit_method(estimator, *args, **kwargs)\n",
      "/home/febbyngrni/telco_churn/.venv_churn/lib/python3.10/site-packages/sklearn/linear_model/_coordinate_descent.py:697: UserWarning: Coordinate descent with no regularization may lead to unexpected results and is discouraged.\n",
      "  model = cd_fast.enet_coordinate_descent(\n",
      "/home/febbyngrni/telco_churn/.venv_churn/lib/python3.10/site-packages/sklearn/linear_model/_coordinate_descent.py:697: ConvergenceWarning: Objective did not converge. You might want to increase the number of iterations, check the scale of the features or consider increasing regularisation. Duality gap: 2.764e+02, tolerance: 7.676e-02 Linear regression models with null weight for the l1 regularization term are more efficiently fitted using one of the solvers implemented in sklearn.linear_model.Ridge/RidgeCV instead.\n",
      "  model = cd_fast.enet_coordinate_descent(\n",
      "/home/febbyngrni/telco_churn/.venv_churn/lib/python3.10/site-packages/sklearn/base.py:1473: UserWarning: With alpha=0, this algorithm does not converge well. You are advised to use the LinearRegression estimator\n",
      "  return fit_method(estimator, *args, **kwargs)\n",
      "/home/febbyngrni/telco_churn/.venv_churn/lib/python3.10/site-packages/sklearn/linear_model/_coordinate_descent.py:697: UserWarning: Coordinate descent with no regularization may lead to unexpected results and is discouraged.\n",
      "  model = cd_fast.enet_coordinate_descent(\n",
      "/home/febbyngrni/telco_churn/.venv_churn/lib/python3.10/site-packages/sklearn/linear_model/_coordinate_descent.py:697: ConvergenceWarning: Objective did not converge. You might want to increase the number of iterations, check the scale of the features or consider increasing regularisation. Duality gap: 2.722e+02, tolerance: 7.610e-02 Linear regression models with null weight for the l1 regularization term are more efficiently fitted using one of the solvers implemented in sklearn.linear_model.Ridge/RidgeCV instead.\n",
      "  model = cd_fast.enet_coordinate_descent(\n",
      "/home/febbyngrni/telco_churn/.venv_churn/lib/python3.10/site-packages/sklearn/base.py:1473: UserWarning: With alpha=0, this algorithm does not converge well. You are advised to use the LinearRegression estimator\n",
      "  return fit_method(estimator, *args, **kwargs)\n",
      "/home/febbyngrni/telco_churn/.venv_churn/lib/python3.10/site-packages/sklearn/linear_model/_coordinate_descent.py:697: UserWarning: Coordinate descent with no regularization may lead to unexpected results and is discouraged.\n",
      "  model = cd_fast.enet_coordinate_descent(\n",
      "/home/febbyngrni/telco_churn/.venv_churn/lib/python3.10/site-packages/sklearn/linear_model/_coordinate_descent.py:697: ConvergenceWarning: Objective did not converge. You might want to increase the number of iterations, check the scale of the features or consider increasing regularisation. Duality gap: 2.733e+02, tolerance: 7.746e-02 Linear regression models with null weight for the l1 regularization term are more efficiently fitted using one of the solvers implemented in sklearn.linear_model.Ridge/RidgeCV instead.\n",
      "  model = cd_fast.enet_coordinate_descent(\n",
      "/home/febbyngrni/telco_churn/.venv_churn/lib/python3.10/site-packages/sklearn/base.py:1473: UserWarning: With alpha=0, this algorithm does not converge well. You are advised to use the LinearRegression estimator\n",
      "  return fit_method(estimator, *args, **kwargs)\n",
      "/home/febbyngrni/telco_churn/.venv_churn/lib/python3.10/site-packages/sklearn/linear_model/_coordinate_descent.py:697: UserWarning: Coordinate descent with no regularization may lead to unexpected results and is discouraged.\n",
      "  model = cd_fast.enet_coordinate_descent(\n",
      "/home/febbyngrni/telco_churn/.venv_churn/lib/python3.10/site-packages/sklearn/linear_model/_coordinate_descent.py:697: ConvergenceWarning: Objective did not converge. You might want to increase the number of iterations, check the scale of the features or consider increasing regularisation. Duality gap: 2.704e+02, tolerance: 7.686e-02 Linear regression models with null weight for the l1 regularization term are more efficiently fitted using one of the solvers implemented in sklearn.linear_model.Ridge/RidgeCV instead.\n",
      "  model = cd_fast.enet_coordinate_descent(\n"
     ]
    }
   ],
   "source": [
    "alpha = np.linspace(0, 10, 10)\n",
    "\n",
    "# To store results\n",
    "mse_train_list = []\n",
    "mse_cv_list = []\n",
    "model_list = []\n",
    "\n",
    "# Loop over different alpha values\n",
    "for i in alpha:\n",
    "    model_i, train_score_i, \\\n",
    "        cv_score_i, model_param_i = feature_selection(estimator=Lasso(alpha=i),\n",
    "                                                      X_train=X_scaled,\n",
    "                                                      y_train=train_set['churn'])\n",
    "\n",
    "    mse_train_list.append(train_score_i)\n",
    "    mse_cv_list.append(cv_score_i)\n",
    "    model_list.append(model_param_i)"
   ]
  },
  {
   "cell_type": "code",
   "execution_count": 155,
   "metadata": {},
   "outputs": [
    {
     "data": {
      "image/png": "[encoded data removed]",
      "text/plain": [
       "<Figure size 1000x600 with 1 Axes>"
      ]
     },
     "metadata": {},
     "output_type": "display_data"
    }
   ],
   "source": [
    "# create subplots\n",
    "fig, ax = plt.subplots(nrows=1, ncols=1, figsize=(10,6))\n",
    "\n",
    "# plot error\n",
    "ax.plot(alpha, mse_train_list, c='r', marker='.', label='Train')\n",
    "ax.plot(alpha, mse_cv_list, c='g', marker='.', label='CV')\n",
    "ax.set_xlabel('alpha')\n",
    "ax.set_ylabel('MSE')\n",
    "\n",
    "plt.grid()\n",
    "plt.legend()\n",
    "plt.show()"
   ]
  },
  {
   "cell_type": "code",
   "execution_count": 157,
   "metadata": {},
   "outputs": [
    {
     "data": {
      "text/plain": [
       "(np.float64(0.0), np.float64(0.14031246617246823))"
      ]
     },
     "execution_count": 157,
     "metadata": {},
     "output_type": "execute_result"
    }
   ],
   "source": [
    "# find the index of the minimum cross-validated mse\n",
    "best_index = np.argmin(mse_cv_list)\n",
    "\n",
    "# retrieve the best alpha value and corresponding cross-validated mse\n",
    "best_alpha = alpha[best_index]\n",
    "best_lasso_cv = mse_cv_list[best_index]\n",
    "\n",
    "# Output the best alpha value and the corresponding cross-validated mse\n",
    "best_alpha, best_lasso_cv"
   ]
  },
  {
   "cell_type": "code",
   "execution_count": 158,
   "metadata": {},
   "outputs": [
    {
     "data": {
      "text/html": [
       "<div>\n",
       "<style scoped>\n",
       "    .dataframe tbody tr th:only-of-type {\n",
       "        vertical-align: middle;\n",
       "    }\n",
       "\n",
       "    .dataframe tbody tr th {\n",
       "        vertical-align: top;\n",
       "    }\n",
       "\n",
       "    .dataframe thead th {\n",
       "        text-align: right;\n",
       "    }\n",
       "</style>\n",
       "<table border=\"1\" class=\"dataframe\">\n",
       "  <thead>\n",
       "    <tr style=\"text-align: right;\">\n",
       "      <th></th>\n",
       "      <th>coefficient</th>\n",
       "    </tr>\n",
       "  </thead>\n",
       "  <tbody>\n",
       "    <tr>\n",
       "      <th>payment_method_Credit card (automatic)</th>\n",
       "      <td>-0.000981</td>\n",
       "    </tr>\n",
       "    <tr>\n",
       "      <th>payment_method_Electronic check</th>\n",
       "      <td>0.036608</td>\n",
       "    </tr>\n",
       "    <tr>\n",
       "      <th>payment_method_Mailed check</th>\n",
       "      <td>0.004971</td>\n",
       "    </tr>\n",
       "    <tr>\n",
       "      <th>paperless_billing_Yes</th>\n",
       "      <td>0.025666</td>\n",
       "    </tr>\n",
       "    <tr>\n",
       "      <th>contract_One year</th>\n",
       "      <td>-0.045801</td>\n",
       "    </tr>\n",
       "    <tr>\n",
       "      <th>contract_Two year</th>\n",
       "      <td>-0.032487</td>\n",
       "    </tr>\n",
       "    <tr>\n",
       "      <th>streaming_movies_No internet service</th>\n",
       "      <td>-0.191455</td>\n",
       "    </tr>\n",
       "    <tr>\n",
       "      <th>streaming_movies_Yes</th>\n",
       "      <td>0.047210</td>\n",
       "    </tr>\n",
       "    <tr>\n",
       "      <th>streaming_tv_No internet service</th>\n",
       "      <td>0.019921</td>\n",
       "    </tr>\n",
       "    <tr>\n",
       "      <th>streaming_tv_Yes</th>\n",
       "      <td>0.040328</td>\n",
       "    </tr>\n",
       "    <tr>\n",
       "      <th>tech_support_No internet service</th>\n",
       "      <td>0.017090</td>\n",
       "    </tr>\n",
       "    <tr>\n",
       "      <th>tech_support_Yes</th>\n",
       "      <td>-0.015278</td>\n",
       "    </tr>\n",
       "    <tr>\n",
       "      <th>device_protection_No internet service</th>\n",
       "      <td>-0.005189</td>\n",
       "    </tr>\n",
       "    <tr>\n",
       "      <th>device_protection_Yes</th>\n",
       "      <td>0.005932</td>\n",
       "    </tr>\n",
       "    <tr>\n",
       "      <th>online_backup_No internet service</th>\n",
       "      <td>0.002286</td>\n",
       "    </tr>\n",
       "    <tr>\n",
       "      <th>online_backup_Yes</th>\n",
       "      <td>-0.003041</td>\n",
       "    </tr>\n",
       "    <tr>\n",
       "      <th>online_security_No internet service</th>\n",
       "      <td>-0.001171</td>\n",
       "    </tr>\n",
       "    <tr>\n",
       "      <th>online_security_Yes</th>\n",
       "      <td>-0.016273</td>\n",
       "    </tr>\n",
       "    <tr>\n",
       "      <th>internet_service_Fiber optic</th>\n",
       "      <td>0.128592</td>\n",
       "    </tr>\n",
       "    <tr>\n",
       "      <th>internet_service_No</th>\n",
       "      <td>0.054683</td>\n",
       "    </tr>\n",
       "    <tr>\n",
       "      <th>multiple_lines_No phone service</th>\n",
       "      <td>-0.028417</td>\n",
       "    </tr>\n",
       "    <tr>\n",
       "      <th>multiple_lines_Yes</th>\n",
       "      <td>0.036494</td>\n",
       "    </tr>\n",
       "    <tr>\n",
       "      <th>phone_service_Yes</th>\n",
       "      <td>-0.010458</td>\n",
       "    </tr>\n",
       "    <tr>\n",
       "      <th>dependents_Yes</th>\n",
       "      <td>-0.015602</td>\n",
       "    </tr>\n",
       "    <tr>\n",
       "      <th>partner_Yes</th>\n",
       "      <td>-0.000130</td>\n",
       "    </tr>\n",
       "    <tr>\n",
       "      <th>senior_citizen_Yes</th>\n",
       "      <td>0.011762</td>\n",
       "    </tr>\n",
       "    <tr>\n",
       "      <th>gender_Male</th>\n",
       "      <td>0.001588</td>\n",
       "    </tr>\n",
       "    <tr>\n",
       "      <th>tenure_months</th>\n",
       "      <td>-0.038567</td>\n",
       "    </tr>\n",
       "    <tr>\n",
       "      <th>monthly_charges</th>\n",
       "      <td>-0.109274</td>\n",
       "    </tr>\n",
       "    <tr>\n",
       "      <th>total_charges</th>\n",
       "      <td>-0.101063</td>\n",
       "    </tr>\n",
       "    <tr>\n",
       "      <th>constant</th>\n",
       "      <td>0.265314</td>\n",
       "    </tr>\n",
       "  </tbody>\n",
       "</table>\n",
       "</div>"
      ],
      "text/plain": [
       "                                        coefficient\n",
       "payment_method_Credit card (automatic)    -0.000981\n",
       "payment_method_Electronic check            0.036608\n",
       "payment_method_Mailed check                0.004971\n",
       "paperless_billing_Yes                      0.025666\n",
       "contract_One year                         -0.045801\n",
       "contract_Two year                         -0.032487\n",
       "streaming_movies_No internet service      -0.191455\n",
       "streaming_movies_Yes                       0.047210\n",
       "streaming_tv_No internet service           0.019921\n",
       "streaming_tv_Yes                           0.040328\n",
       "tech_support_No internet service           0.017090\n",
       "tech_support_Yes                          -0.015278\n",
       "device_protection_No internet service     -0.005189\n",
       "device_protection_Yes                      0.005932\n",
       "online_backup_No internet service          0.002286\n",
       "online_backup_Yes                         -0.003041\n",
       "online_security_No internet service       -0.001171\n",
       "online_security_Yes                       -0.016273\n",
       "internet_service_Fiber optic               0.128592\n",
       "internet_service_No                        0.054683\n",
       "multiple_lines_No phone service           -0.028417\n",
       "multiple_lines_Yes                         0.036494\n",
       "phone_service_Yes                         -0.010458\n",
       "dependents_Yes                            -0.015602\n",
       "partner_Yes                               -0.000130\n",
       "senior_citizen_Yes                         0.011762\n",
       "gender_Male                                0.001588\n",
       "tenure_months                             -0.038567\n",
       "monthly_charges                           -0.109274\n",
       "total_charges                             -0.101063\n",
       "constant                                   0.265314"
      ]
     },
     "execution_count": 158,
     "metadata": {},
     "output_type": "execute_result"
    }
   ],
   "source": [
    "# best model\n",
    "best_model_lasso = model_list[best_index]\n",
    "best_model_lasso"
   ]
  },
  {
   "cell_type": "markdown",
   "metadata": {},
   "source": [
    "## Dump Dataset"
   ]
  },
  {
   "cell_type": "code",
   "execution_count": 156,
   "metadata": {},
   "outputs": [
    {
     "data": {
      "text/plain": [
       "['../data/processed/y_test_feng.pkl']"
      ]
     },
     "execution_count": 156,
     "metadata": {},
     "output_type": "execute_result"
    }
   ],
   "source": [
    "joblib.dump(data_rus.drop(columns='churn'), params['data_rus_path'][0])\n",
    "joblib.dump(data_rus['churn'], params['data_rus_path'][1])\n",
    "\n",
    "joblib.dump(data_ros.drop(columns='churn'), params['data_ros_path'][0])\n",
    "joblib.dump(data_ros['churn'], params['data_ros_path'][1])\n",
    "\n",
    "joblib.dump(data_sm.drop(columns='churn'), params['data_sm_path'][0])\n",
    "joblib.dump(data_sm['churn'], params['data_sm_path'][1])\n",
    "\n",
    "joblib.dump(valid_set.drop(columns='churn'), params['valid_feng_set_path'][0])\n",
    "joblib.dump(valid_set['churn'], params['valid_feng_set_path'][1])\n",
    "\n",
    "joblib.dump(test_set.drop(columns='churn'), params['test_feng_set_path'][0])\n",
    "joblib.dump(test_set['churn'], params['test_feng_set_path'][1])"
   ]
  }
 ],
 "metadata": {
  "kernelspec": {
   "display_name": ".venv_churn",
   "language": "python",
   "name": "python3"
  },
  "language_info": {
   "codemirror_mode": {
    "name": "ipython",
    "version": 3
   },
   "file_extension": ".py",
   "mimetype": "text/x-python",
   "name": "python",
   "nbconvert_exporter": "python",
   "pygments_lexer": "ipython3",
   "version": "3.10.12"
  }
 },
 "nbformat": 4,
 "nbformat_minor": 2
}
